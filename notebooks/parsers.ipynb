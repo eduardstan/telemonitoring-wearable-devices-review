{
 "cells": [
  {
   "cell_type": "code",
   "execution_count": null,
   "metadata": {},
   "outputs": [],
   "source": [
    "import sys\n",
    "import os\n",
    "\n",
    "# Add the parent directory to sys.path so that the notebook can find the parsers\n",
    "sys.path.append(os.path.join(os.path.dirname(os.path.abspath('')), 'code'))\n",
    "\n",
    "from parsers.ris_parser import RISParser\n",
    "from parsers.nbib_parser import NBIBParser\n",
    "from parsers.keywords_mapping import RIS_KEYWORDS, NBIB_KEYWORDS\n",
    "\n",
    "# User selects fields they want to parse\n",
    "selected_fields = ['title', 'authors', 'doi', 'venue', 'abstract', 'publication_language']\n",
    "\n",
    "# Specify required and optional fields\n",
    "required_fields = ['title', 'authors', 'venue']\n",
    "optional_fields = ['doi', 'abstract', 'publication_language']\n",
    "\n",
    "# Define the keyword mapping based on the file type (RIS or NBIB)\n",
    "ris_parser = RISParser('../data/tests/sample.ris', selected_fields, required_fields, optional_fields, RIS_KEYWORDS)\n",
    "ris_records = ris_parser.parse()\n",
    "\n",
    "nbib_parser = NBIBParser('../data/tests/sample.nbib', selected_fields, required_fields, optional_fields, NBIB_KEYWORDS)\n",
    "nbib_records = nbib_parser.parse()\n",
    "\n",
    "print(ris_records[0])\n",
    "print(nbib_records[0])"
   ]
  }
 ],
 "metadata": {
  "kernelspec": {
   "display_name": "telemonitoring",
   "language": "python",
   "name": "python3"
  },
  "language_info": {
   "codemirror_mode": {
    "name": "ipython",
    "version": 3
   },
   "file_extension": ".py",
   "mimetype": "text/x-python",
   "name": "python",
   "nbconvert_exporter": "python",
   "pygments_lexer": "ipython3",
   "version": "3.12.3"
  }
 },
 "nbformat": 4,
 "nbformat_minor": 2
}
