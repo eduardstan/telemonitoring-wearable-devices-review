{
 "cells": [
  {
   "cell_type": "code",
   "execution_count": 1,
   "metadata": {},
   "outputs": [
    {
     "name": "stdout",
     "output_type": "stream",
     "text": [
      "{'venue': 'Sensors (Basel)', 'doi': '10.3390/s24144614', 'authors': 'Ranjan, Y.; Chang, J.; Sankesara, H.; Conde, P.; Rashid, Z.; Dobson, R.J.B.; Folarin, A.', 'title': 'RADAR-IoT: An Open-Source, Interoperable, and Extensible IoT Gateway Framework for Health Research', 'publication_language': 'English', 'abstract': \"IoT sensors offer a wide range of sensing capabilities, many of which have potential health applications. Existing solutions for IoT in healthcare have notable limitations, such as closed-source, limited I/O protocols, limited cloud platform support, and missing specific functionality for health use cases. Developing an open-source internet of things (IoT) gateway solution that addresses these limitations and provides reliability, broad applicability, and utility is highly desirable. Combining a wide range of sensor data streams from IoT devices with ambulatory mHealth data would open up the potential to provide a detailed 360-degree view of the relationship between patient physiology, behavior, and environment. We have developed RADAR-IoT as an open-source IoT gateway framework, to harness this potential. It aims to connect multiple IoT devices at the edge, perform limited on-device data processing and analysis, and integrate with cloud-based mobile health platforms, such as RADAR-base, enabling real-time data processing. We also present a proof-of-concept data collection from this framework, using prototype hardware in two locations. The RADAR-IoT framework, combined with the RADAR-base mHealth platform, provides a comprehensive view of a user's health and environment by integrating static IoT sensors and wearable devices. Despite its current limitations, it offers a promising open-source solution for health research, with potential applications in managing infection control, monitoring chronic pulmonary disorders, and assisting patients with impaired motor control or cognitive ability.\"}\n",
      "{'title': 'Improvements in Patient Monitoring in the Intensive Care Unit: Survey Study.', 'doi': '10.2196/19091 [doi]; e19091', 'abstract': 'BACKGROUND: Due to demographic change and, more recently, coronavirus disease', 'authors': 'Poncette AS; Mosch L; Spies C; Schmieding M; Schiefenhövel F; Krampe H; Balzer F', 'publication_language': 'Canada', 'venue': 'Journal of medical Internet research'}\n"
     ]
    }
   ],
   "source": [
    "import sys\n",
    "import os\n",
    "\n",
    "# Add the parent directory to sys.path so that the notebook can find the parsers\n",
    "sys.path.append(os.path.join(os.path.dirname(os.path.abspath('')), 'code'))\n",
    "\n",
    "from parsers.ris_parser import RISParser\n",
    "from parsers.nbib_parser import NBIBParser\n",
    "from parsers.keywords_mapping import RIS_KEYWORDS, NBIB_KEYWORDS\n",
    "\n",
    "# User selects fields they want to parse\n",
    "selected_fields = ['title', 'authors', 'doi', 'venue', 'abstract', 'publication_language']\n",
    "\n",
    "# Specify required and optional fields\n",
    "required_fields = ['title', 'authors', 'venue']\n",
    "optional_fields = ['doi', 'abstract', 'publication_language']\n",
    "\n",
    "# Define the keyword mapping based on the file type (RIS or NBIB)\n",
    "ris_parser = RISParser('../data/tests/sample.ris', selected_fields, required_fields, optional_fields, RIS_KEYWORDS)\n",
    "ris_records = ris_parser.parse()\n",
    "\n",
    "nbib_parser = NBIBParser('../data/tests/sample.nbib', selected_fields, required_fields, optional_fields, NBIB_KEYWORDS)\n",
    "nbib_records = nbib_parser.parse()\n",
    "\n",
    "print(ris_records[0])\n",
    "print(nbib_records[0])"
   ]
  }
 ],
 "metadata": {
  "kernelspec": {
   "display_name": "telemonitoring",
   "language": "python",
   "name": "python3"
  },
  "language_info": {
   "codemirror_mode": {
    "name": "ipython",
    "version": 3
   },
   "file_extension": ".py",
   "mimetype": "text/x-python",
   "name": "python",
   "nbconvert_exporter": "python",
   "pygments_lexer": "ipython3",
   "version": "3.12.3"
  }
 },
 "nbformat": 4,
 "nbformat_minor": 2
}
