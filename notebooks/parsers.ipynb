{
 "cells": [
  {
   "cell_type": "code",
   "execution_count": 1,
   "metadata": {},
   "outputs": [
    {
     "name": "stdout",
     "output_type": "stream",
     "text": [
      "{'venue': 'Sensors (Basel)', 'doi': '10.3390/s24144614', 'authors': 'Ranjan, Y.; Chang, J.; Sankesara, H.; Conde, P.; Rashid, Z.; Dobson, R.J.B.; Folarin, A.', 'title': 'RADAR-IoT: An Open-Source, Interoperable, and Extensible IoT Gateway Framework for Health Research', 'publication_language': 'English', 'abstract': \"IoT sensors offer a wide range of sensing capabilities, many of which have potential health applications. Existing solutions for IoT in healthcare have notable limitations, such as closed-source, limited I/O protocols, limited cloud platform support, and missing specific functionality for health use cases. Developing an open-source internet of things (IoT) gateway solution that addresses these limitations and provides reliability, broad applicability, and utility is highly desirable. Combining a wide range of sensor data streams from IoT devices with ambulatory mHealth data would open up the potential to provide a detailed 360-degree view of the relationship between patient physiology, behavior, and environment. We have developed RADAR-IoT as an open-source IoT gateway framework, to harness this potential. It aims to connect multiple IoT devices at the edge, perform limited on-device data processing and analysis, and integrate with cloud-based mobile health platforms, such as RADAR-base, enabling real-time data processing. We also present a proof-of-concept data collection from this framework, using prototype hardware in two locations. The RADAR-IoT framework, combined with the RADAR-base mHealth platform, provides a comprehensive view of a user's health and environment by integrating static IoT sensors and wearable devices. Despite its current limitations, it offers a promising open-source solution for health research, with potential applications in managing infection control, monitoring chronic pulmonary disorders, and assisting patients with impaired motor control or cognitive ability.\"}\n",
      "{'title': 'Improvements in Patient Monitoring in the Intensive Care Unit: Survey Study.', 'doi': '10.2196/19091 [doi] e19091', 'abstract': \"BACKGROUND: Due to demographic change and, more recently, coronavirus disease (COVID-19), the importance of modern intensive care units (ICU) is becoming apparent. One of the key components of an ICU is the continuous monitoring of patients' vital parameters. However, existing advances in informatics, signal processing, or engineering that could alleviate the burden on ICUs have not yet been applied. This could be due to the lack of user involvement in research and development. OBJECTIVE: This study focused on the satisfaction of ICU staff with current patient monitoring and their suggestions for future improvements. We aimed to identify aspects of monitoring that interrupt patient care, display devices for remote monitoring, use cases for artificial intelligence (AI), and whether ICU staff members are willing to improve their digital literacy or contribute to the improvement of patient monitoring. We further aimed to identify differences in the responses of different professional groups. METHODS: This survey study was performed with ICU staff from 4 ICUs of a German university hospital between November 2019 and January 2020. We developed a web-based 36-item survey questionnaire, by analyzing a preceding qualitative interview study with ICU staff, about the clinical requirements of future patient monitoring. Statistical analyses of questionnaire results included median values with their bootstrapped 95% confidence intervals, and chi-square tests to compare the distributions of item responses of the professional groups. RESULTS: In total, 86 of the 270 ICU physicians and nurses completed the survey questionnaire. The majority stated they felt confident using the patient monitoring equipment, but that high rates of false-positive alarms and the many sensor cables interrupted patient care. Regarding future improvements, respondents asked for wireless sensors, a reduction in the number of false-positive alarms, and hospital standard operating procedures for alarm management. Responses to the display devices proposed for remote patient monitoring were divided. Most respondents indicated it would be useful for earlier alerting or when they were responsible for multiple wards. AI for ICUs would be useful for early detection of complications and an increased risk of mortality; in addition, the AI could propose guidelines for therapy and diagnostics. Transparency, interoperability, usability, and staff training were essential to promote the use of AI. The majority wanted to learn more about new technologies for the ICU and required more time for learning. Physicians had fewer reservations than nurses about AI-based intelligent alarm management and using mobile phones for remote monitoring. CONCLUSIONS: This survey study of ICU staff revealed key improvements for patient monitoring in intensive care medicine. Hospital providers and medical device manufacturers should focus on reducing false alarms, implementing hospital alarm standard operating procedures, introducing wireless sensors, preparing for the use of AI, and enhancing the digital literacy of ICU staff. Our results may contribute to the user-centered transfer of digital technologies into practice to alleviate challenges in intensive care medicine. TRIAL REGISTRATION: ClinicalTrials.gov NCT03514173; https://clinicaltrials.gov/ct2/show/NCT03514173.\", 'authors': 'Poncette AS; Mosch L; Spies C; Schmieding M; Schiefenhövel F; Krampe H; Balzer F', 'publication_language': 'Canada', 'venue': 'Journal of medical Internet research'}\n"
     ]
    }
   ],
   "source": [
    "import sys\n",
    "import os\n",
    "\n",
    "# Add the parent directory to sys.path so that the notebook can find the parsers\n",
    "sys.path.append(os.path.join(os.path.dirname(os.path.abspath('')), 'code'))\n",
    "\n",
    "from parsers.ris_parser import RISParser\n",
    "from parsers.nbib_parser import NBIBParser\n",
    "from parsers.keywords_mapping import RIS_KEYWORDS, NBIB_KEYWORDS\n",
    "\n",
    "# User selects fields they want to parse\n",
    "selected_fields = ['title', 'authors', 'doi', 'venue', 'abstract', 'publication_language']\n",
    "\n",
    "# Specify required and optional fields\n",
    "required_fields = ['title', 'authors', 'venue']\n",
    "optional_fields = ['doi', 'abstract', 'publication_language']\n",
    "\n",
    "# Define the keyword mapping based on the file type (RIS or NBIB)\n",
    "ris_parser = RISParser('../data/tests/sample.ris', selected_fields, required_fields, optional_fields, RIS_KEYWORDS)\n",
    "ris_records = ris_parser.parse()\n",
    "\n",
    "nbib_parser = NBIBParser('../data/tests/sample.nbib', selected_fields, required_fields, optional_fields, NBIB_KEYWORDS)\n",
    "nbib_records = nbib_parser.parse()\n",
    "\n",
    "print(ris_records[0])\n",
    "print(nbib_records[0])"
   ]
  }
 ],
 "metadata": {
  "kernelspec": {
   "display_name": "telemonitoring",
   "language": "python",
   "name": "python3"
  },
  "language_info": {
   "codemirror_mode": {
    "name": "ipython",
    "version": 3
   },
   "file_extension": ".py",
   "mimetype": "text/x-python",
   "name": "python",
   "nbconvert_exporter": "python",
   "pygments_lexer": "ipython3",
   "version": "3.12.3"
  }
 },
 "nbformat": 4,
 "nbformat_minor": 2
}
